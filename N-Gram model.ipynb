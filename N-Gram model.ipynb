{
 "cells": [
  {
   "cell_type": "code",
   "execution_count": 1,
   "metadata": {},
   "outputs": [],
   "source": [
    "import random"
   ]
  },
  {
   "cell_type": "code",
   "execution_count": 108,
   "metadata": {},
   "outputs": [],
   "source": [
    "text=\"\"\"A trade war is an economic conflict resulting from extreme protectionism in which states raise or create tariffs or other trade barriers against each other in response to trade barriers created by the other party.Increased protection causes both nations' output compositions to move towards their autarky position.\n",
    "\n",
    "Some economists agree that certain economic protections are more costly than others, because they may be more likely to trigger a trade war. For example, if a country were to raise tariffs, then a second country in retaliation may similarly raise tariffs. An increase in subsidies, however, may be difficult to retaliate against by a foreign country. Many poor countries do not have the ability to raise subsidies. In addition, poor countries are more vulnerable than rich countries in trade wars; in raising protections against dumping of cheap products, a government risks making the product too expensive for its people to afford.[citation needed]\n",
    "\n",
    "Trade wars and protectionism have been implicated by some scholars as the cause of some economic crises, in particular the Great Depression.\"\"\""
   ]
  },
  {
   "cell_type": "code",
   "execution_count": 175,
   "metadata": {},
   "outputs": [],
   "source": [
    "n=15\n",
    "ngrams={}"
   ]
  },
  {
   "cell_type": "code",
   "execution_count": 176,
   "metadata": {},
   "outputs": [],
   "source": [
    "for i in range(len(text)-n):\n",
    "    grams=text[i:i+n]\n",
    "    if grams not in ngrams.keys():\n",
    "        ngrams[grams]=[]\n",
    "    ngrams[grams].append(text[i+n])"
   ]
  },
  {
   "cell_type": "code",
   "execution_count": 177,
   "metadata": {},
   "outputs": [],
   "source": [
    "CurrentGram=text[0:n]\n",
    "result=CurrentGram\n",
    "for i in range(300):\n",
    "    if CurrentGram not in ngrams.keys():\n",
    "        break\n",
    "    possibilities=ngrams[CurrentGram]\n",
    "    nextItem=possibilities[random.randrange(len(possibilities))]\n",
    "    result+=nextItem\n",
    "    CurrentGram=result[len(result)-n:len(result)]"
   ]
  },
  {
   "cell_type": "code",
   "execution_count": 178,
   "metadata": {},
   "outputs": [
    {
     "name": "stdout",
     "output_type": "stream",
     "text": [
      "A trade war is an economic conflict resulting from extreme protectionism in which states raise or create tariffs or other trade barriers against each other in response to trade barriers created by the other party.Increased protection causes both nations' output compositions to move towards their autarky position.\n",
      "\n"
     ]
    }
   ],
   "source": [
    "print(result)"
   ]
  },
  {
   "cell_type": "code",
   "execution_count": null,
   "metadata": {},
   "outputs": [],
   "source": []
  }
 ],
 "metadata": {
  "kernelspec": {
   "display_name": "Python 3",
   "language": "python",
   "name": "python3"
  },
  "language_info": {
   "codemirror_mode": {
    "name": "ipython",
    "version": 3
   },
   "file_extension": ".py",
   "mimetype": "text/x-python",
   "name": "python",
   "nbconvert_exporter": "python",
   "pygments_lexer": "ipython3",
   "version": "3.6.4"
  }
 },
 "nbformat": 4,
 "nbformat_minor": 2
}
